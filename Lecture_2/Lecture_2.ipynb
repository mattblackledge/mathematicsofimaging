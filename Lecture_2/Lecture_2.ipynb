{
 "cells": [
  {
   "cell_type": "code",
   "execution_count": 1,
   "metadata": {
    "code_folding": [],
    "slideshow": {
     "slide_type": "notes"
    }
   },
   "outputs": [
    {
     "data": {
      "text/html": [
       "<style>.container { width:95% !important; height:95%; }</style>"
      ],
      "text/plain": [
       "<IPython.core.display.HTML object>"
      ]
     },
     "metadata": {},
     "output_type": "display_data"
    },
    {
     "data": {
      "text/html": [
       "<script>\n",
       "    code_show=true; \n",
       "    function code_toggle() {\n",
       "         if (code_show){\n",
       "         $('div.input').hide();\n",
       "         } else {\n",
       "         $('div.input').show();\n",
       "         }\n",
       "         code_show = !code_show\n",
       "    } \n",
       "    $( document ).ready(code_toggle);\n",
       "    </script>\n",
       "    <form action=\"javascript:code_toggle()\"><input type=\"submit\" value=\"Click here to toggle on/off the raw code.\"></form>\n",
       "    "
      ],
      "text/plain": [
       "<IPython.core.display.HTML object>"
      ]
     },
     "execution_count": 1,
     "metadata": {},
     "output_type": "execute_result"
    }
   ],
   "source": [
    "# Essential plotting and scientific libraries\n",
    "import matplotlib.pyplot as pl\n",
    "from matplotlib.colors import LinearSegmentedColormap\n",
    "%matplotlib inline\n",
    "import numpy as np\n",
    "\n",
    "from numpy import fft\n",
    "\n",
    "from skimage.io import imread\n",
    "from skimage.transform import resize\n",
    "\n",
    "# IPython display imports\n",
    "from ipywidgets import interact, FloatSlider, IntSlider, RadioButtons, Button, HBox, VBox, Checkbox\n",
    "from IPython.display import Image, display, clear_output\n",
    "\n",
    "\n",
    "from scipy.misc import face\n",
    "face = face() # An example image we can use\n",
    "from scipy.signal import convolve2d\n",
    "\n",
    "import wave\n",
    "\n",
    "from IPython.core.display import display, HTML\n",
    "display(HTML(\"<style>.container { width:95% !important; height:95%; }</style>\"))\n",
    "\n",
    "import warnings\n",
    "warnings.filterwarnings(\"ignore\", category=DeprecationWarning)\n",
    "\n",
    "HTML('''<script>\n",
    "    code_show=true; \n",
    "    function code_toggle() {\n",
    "         if (code_show){\n",
    "         $('div.input').hide();\n",
    "         } else {\n",
    "         $('div.input').show();\n",
    "         }\n",
    "         code_show = !code_show\n",
    "    } \n",
    "    $( document ).ready(code_toggle);\n",
    "    </script>\n",
    "    <form action=\"javascript:code_toggle()\"><input type=\"submit\" value=\"Click here to toggle on/off the raw code.\"></form>\n",
    "    ''')"
   ]
  },
  {
   "cell_type": "markdown",
   "metadata": {
    "slideshow": {
     "slide_type": "slide"
    }
   },
   "source": [
    "## Describing Imaging Systems\n",
    "<div style=\"float: left; width: 45%;\">\n",
    "<br>\n",
    "<ul>\n",
    "<li> No imaging system is perfect!  <br><br>\n",
    "<li> Images only provide a reasonable approximation of the underlying object we are trying to capture. <br><br>\n",
    "<li> For example, medical images typically provide some information about a particular biological property of the tissue at a given position in space, $(x, y)$ <br><br>\n",
    "</ul>\n",
    "</div>\n",
    "<div style=\"float: right; width: 50%;\">\n",
    " <img src='images/medical_image_examples.jpg' width = '80%'>\n",
    "</div>"
   ]
  },
  {
   "cell_type": "markdown",
   "metadata": {
    "slideshow": {
     "slide_type": "subslide"
    }
   },
   "source": [
    "## Describing Imaging Systems\n",
    "<div style=\"float: left; width: 45%;\">\n",
    "<br>\n",
    "<ul>\n",
    "    <li> In the following slides we introduce a general formulation for characterising imaging systems.<br><br>\n",
    "    <li> We deonte the <b>object</b> as $f(\\alpha, \\beta)$ , and the <b>image</b> as $g(x, y)$<sup>1</sup><br><br>\n",
    "    <li> We also typically assume that $f(\\alpha, \\beta) \\in \\mathbb{R}^{+}$ and $g(x, y) \\in \\mathbb{R}^{+}$<br><br>\n",
    "    <li> In its most general sense, the imaging system can be thought of as an operator, $\\mathcal{H}$, operating on the opbject to produce the image.<br><br>\n",
    "</ul>\n",
    "<hr></hr>\n",
    "<sup>1. Here we assume we are working with 2D images, but these methods are applicable to 3 or more dimensions as well!</sup>\n",
    "</div>\n",
    "<br><br><br>\n",
    "<div style=\"float: right; width: 50%;\">\n",
    "<img src='images/image_object.jpg' width = '90%'>\n",
    "</div>"
   ]
  },
  {
   "cell_type": "markdown",
   "metadata": {
    "slideshow": {
     "slide_type": "subslide"
    }
   },
   "source": [
    "## Linear Imaging Systems\n",
    "<ul>\n",
    "    <li>Consider now that the same imaging system is used to capture images, $g_{1}(x, y)$ and $g_{2}(x, y)$, of two objects, $f_{1}(\\alpha, \\beta)$ and $f_{2}(\\alpha, \\beta)$ respectively.<br><br>\n",
    "    <li> A <b>linear imaging system</b> is one that satisfies the following property:<br><br>\n",
    "\\begin{align}\n",
    "\\mathcal{H}\\left(g_{1} + g_{2}\\right) &= \\mathcal{H}\\left(g_{1}\\right) + \\mathcal{H}\\left(g_{2}\\right) \\\\ \n",
    "        &= f_{1} + f_{2}\n",
    "\\end{align}<br>\n",
    "     <li> For example, in PET imaging, if the concentration of radioactive tracer doubles, then so does the intensity on the final image.  Another example could be doubling of the exposure time when taking a picture (although there will be a limit!)<br><br>\n",
    "     <li> In practise nearly all imaging systems are considered to be linear.\n",
    "</ul>"
   ]
  },
  {
   "cell_type": "markdown",
   "metadata": {
    "slideshow": {
     "slide_type": "subslide"
    }
   },
   "source": [
    "## Point-Spread Function\n",
    "<div style=\"float: left; width: 50%;\">\n",
    "<br>\n",
    "<ul>\n",
    "    <li> Lets go back to our example of the pin-hole camera with a finite aperture.<br><br>\n",
    "    <li> What happens if we use a point-source at position $(\\alpha, \\beta)$ as the object: $f(\\alpha', \\beta') = \\delta(\\alpha' - \\alpha, \\beta' - \\beta)$?<br><br>\n",
    "    <li> We will end up with the <b>point-spread function</b> (PSF) describing the imaging-system for the location of the point source, $h(x, y; \\alpha, \\beta)$.<br><br>\n",
    "    <li> The final image will be the sum (integral) of the contribution from all point-sources that make up the object (assuming the imaging system is linear):\n",
    "    $$\n",
    "    g(x, y) = \\iint\\limits_{-\\infty}^{\\infty} h(x, y; \\alpha, \\beta)\\cdot f(\\alpha, \\beta)\\text{d}\\alpha\\text{d}\\beta\n",
    "    $$\n",
    "</ul>\n",
    "</div>\n",
    "<br><br><br>\n",
    "<div style=\"float: right; width: 40%;\">\n",
    "    <img src='images/pinhole_projection.jpg' width = '90%'>\n",
    "</div>"
   ]
  },
  {
   "cell_type": "markdown",
   "metadata": {
    "slideshow": {
     "slide_type": "subslide"
    }
   },
   "source": [
    "## Shift Invariance\n",
    "<div style=\"float: left; width: 40%;\">\n",
    "<br>\n",
    "<ul>\n",
    "    <li>If the PSF is <b>shift invariant</b> then $h$ will not change for different positions in the source frame-of-reference.<br><br>\n",
    "    <li> Instead, the final image will be a <b>convolution</b> of the shift-invariant PSF with the object:<br><br>\n",
    "        \\begin{align}\n",
    "            g(x, y) &= \\iint\\limits_{-\\infty}^{\\infty} h(x-\\alpha, y-\\beta)\\cdot f(\\alpha, \\beta)\\text{d}\\alpha\\text{d}\\beta            \n",
    "        \\end{align}\n",
    "        <br>\n",
    "    <li> In practice nearly all imaging systems are considered to be shift invariant (even if it is know they are not!).\n",
    "</ul>\n",
    "</div>\n",
    "<div style=\"float: right; width: 50%;\">\n",
    "    <img src='images/PSF_examples.jpg' width = '90%'>\n",
    "</div>"
   ]
  },
  {
   "cell_type": "markdown",
   "metadata": {
    "slideshow": {
     "slide_type": "subslide"
    }
   },
   "source": [
    "## Example of the PSF\n",
    "This example taken from earlier on works as a good example of the (shift-invariant) PSF in action.  Using a Guassian distribution as the PSF and increasing the variance of the distribution appears to make the image more blurry!"
   ]
  },
  {
   "cell_type": "code",
   "execution_count": 2,
   "metadata": {
    "slideshow": {
     "slide_type": "-"
    }
   },
   "outputs": [
    {
     "name": "stderr",
     "output_type": "stream",
     "text": [
      "/Users/adminmblackledge/miniconda2/envs/main/lib/python2.7/site-packages/skimage/transform/_warps.py:84: UserWarning: The default mode, 'constant', will be changed to 'reflect' in skimage 0.15.\n",
      "  warn(\"The default mode, 'constant', will be changed to 'reflect' in \"\n"
     ]
    },
    {
     "data": {
      "application/vnd.jupyter.widget-view+json": {
       "model_id": "4e1e61337c8c4feba1fd1f2e10d2645f",
       "version_major": 2,
       "version_minor": 0
      },
      "text/html": [
       "<p>Failed to display Jupyter Widget of type <code>interactive</code>.</p>\n",
       "<p>\n",
       "  If you're reading this message in the Jupyter Notebook or JupyterLab Notebook, it may mean\n",
       "  that the widgets JavaScript is still loading. If this message persists, it\n",
       "  likely means that the widgets JavaScript library is either not installed or\n",
       "  not enabled. See the <a href=\"https://ipywidgets.readthedocs.io/en/stable/user_install.html\">Jupyter\n",
       "  Widgets Documentation</a> for setup instructions.\n",
       "</p>\n",
       "<p>\n",
       "  If you're reading this message in another frontend (for example, a static\n",
       "  rendering on GitHub or <a href=\"https://nbviewer.jupyter.org/\">NBViewer</a>),\n",
       "  it may mean that your frontend doesn't currently support widgets.\n",
       "</p>\n"
      ],
      "text/plain": [
       "interactive(children=(FloatSlider(value=0.0, continuous_update=False, description=u'variance', max=30.0, step=0.5, _dom_classes=('mytext',)), Output()), _dom_classes=('widget-interact',))"
      ]
     },
     "metadata": {},
     "output_type": "display_data"
    }
   ],
   "source": [
    "# Convert the red-channel of the 'face' to a floating point array (value 0 to 1):\n",
    "face_R = face[:, :, 0].astype('float32')/255\n",
    "\n",
    "# Make it smaller to speed thing up a little....\n",
    "face_R = resize(face_R, (face_R.shape[0] / 5, face_R.shape[1] / 5))\n",
    "\n",
    "PSF_variance_slider = FloatSlider(min=0.0, max=30, step=0.5, value=0, continuous_update=False)\n",
    "PSF_variance_slider.add_class(\"mytext\")\n",
    "    \n",
    "# decorate the plot function with an environment from the UIs:\n",
    "@interact(variance=PSF_variance_slider)\n",
    "def convolute_PSF(variance):\n",
    "    \n",
    "    # We can't actually use zero here so just make very small.\n",
    "    if variance == 0.0:\n",
    "        variance = 1e-10\n",
    "    \n",
    "    # convolve with a disk of varying radius\n",
    "    x = np.linspace(-20, 20, 41)\n",
    "    X, Y = np.meshgrid(x, x)\n",
    "    \n",
    "    gaussian = (1.0 / (2*np.pi*np.sqrt(variance))) * np.exp(-0.5 * (X**2 + Y**2) / variance)\n",
    "    \n",
    "    f = pl.figure(figsize = (25, 6))\n",
    "    ax1 = f.add_subplot(131) \n",
    "    ax1.imshow(gaussian / gaussian.max(), cmap = 'gray', clim = (0, 1), interpolation = 'None')\n",
    "    ax1.set_title(r'$PSF, h(x - \\alpha, y - \\beta)$', fontsize = 20.0)\n",
    "    \n",
    "    ax2 = f.add_subplot(132)\n",
    "    ax2.imshow(face_R, cmap = 'gray', interpolation = 'None')\n",
    "    ax2.set_title(r'$f(\\alpha, \\beta)$', fontsize = 20.0)\n",
    "    \n",
    "    ax3 = f.add_subplot(133)\n",
    "    ax3.imshow(convolve2d(face_R, gaussian, mode='same'), cmap = 'gray', interpolation = 'None')\n",
    "    ax3.set_title(r'$g(x, y)$', fontsize = 20.0)\n",
    "    \n",
    "    pl.show()"
   ]
  },
  {
   "cell_type": "markdown",
   "metadata": {
    "slideshow": {
     "slide_type": "subslide"
    }
   },
   "source": [
    "## Transfer Functions\n",
    "<ul>\n",
    "    <li> Recall the convoilution theorem, which states that the Fourier transform of the convolution between two signals, $f$ and $h$, is equal to the product of the fourier trannform of each signal, $F$ and $H$ respectively. <br><br>\n",
    "    <li> In two-dimensions this means that we have:<br><br>\n",
    "    \\begin{align}\n",
    "       \\text{FT}\\left\\{ g(x, y) \\right\\} &= \\text{FT}\\left\\{\\iint\\limits_{-\\infty}^{\\infty}h(x-\\alpha, y-\\beta)\\cdot f(\\alpha, \\beta)\\text{d}\\alpha \\text{d}\\beta \\right\\}\\\\\\\\\n",
    "        &= \\text{FT}\\left\\{h(x, y)\\right\\} \\cdot \\text{FT}\\left\\{g(x, y)\\right\\} \\\\\\\\\n",
    "        \\therefore G(k_{x}, k_{y}) &= H(k_{x}, k_{y})\\cdot F(k_{x}, k_{y})\n",
    "    \\end{align}<br>\n",
    "    <li> $H(k_{x}, k_{y})$, the Fourier transform of the point-spread function, is called the <b>Optical Transfer Function</b> (OTF) <br><br>\n",
    "    <li> In general, the OTF is complex valued and so it can be simpler to define the <b>Modulation Transfer Function</b> (MTF) as the absolute value:<br><br>\n",
    "        \\begin{align}\n",
    "            \\text{MTF} &= |\\text{OTF}| = |H(k_{x}, k_{y})|\n",
    "        \\end{align}\n",
    "</ul>"
   ]
  },
  {
   "cell_type": "markdown",
   "metadata": {
    "slideshow": {
     "slide_type": "subslide"
    }
   },
   "source": [
    "## Transfer Functions - what do they represent?\n",
    "<div style=\"float: left; width: 50%;\">\n",
    "<br>\n",
    "<ul>\n",
    "    <li> $F$ describes the frequencies present in the <i>object</i> and $G$ the frequencies in the <i>image</i><br><br>\n",
    "    <li> If the magnitude of $H$ (i.e. the MTF) is low, then these frequencies in object are attenuated in the final image (i.e. modulations in the object at these frequencies are not <i>transferred</i> into the image!)\n",
    "</ul>\n",
    "</div>\n",
    "<br><br>\n",
    "<div style=\"float: right; width: 40%; border:1px solid black;\">\n",
    "<br>\n",
    "\\begin{gather*}\n",
    "\\text{image frequencies} = \\text{OTF} \\cdot \\text{object frequencies} \\\\\\\\\n",
    "G(k_{x}, k_{y}) = H(k_{x}, k_{y})\\cdot F(k_{x}, k_{y}) \\\\\\\\\n",
    "\\text{MTF} = |H(k_{x}, k_{y})|\n",
    "\\end{gather*}\n",
    "<br>\n",
    "</div>"
   ]
  },
  {
   "cell_type": "code",
   "execution_count": 3,
   "metadata": {
    "scrolled": false
   },
   "outputs": [
    {
     "data": {
      "application/vnd.jupyter.widget-view+json": {
       "model_id": "331972783bdc41cfa647f29cc06256eb",
       "version_major": 2,
       "version_minor": 0
      },
      "text/html": [
       "<p>Failed to display Jupyter Widget of type <code>interactive</code>.</p>\n",
       "<p>\n",
       "  If you're reading this message in the Jupyter Notebook or JupyterLab Notebook, it may mean\n",
       "  that the widgets JavaScript is still loading. If this message persists, it\n",
       "  likely means that the widgets JavaScript library is either not installed or\n",
       "  not enabled. See the <a href=\"https://ipywidgets.readthedocs.io/en/stable/user_install.html\">Jupyter\n",
       "  Widgets Documentation</a> for setup instructions.\n",
       "</p>\n",
       "<p>\n",
       "  If you're reading this message in another frontend (for example, a static\n",
       "  rendering on GitHub or <a href=\"https://nbviewer.jupyter.org/\">NBViewer</a>),\n",
       "  it may mean that your frontend doesn't currently support widgets.\n",
       "</p>\n"
      ],
      "text/plain": [
       "interactive(children=(FloatSlider(value=0.0, continuous_update=False, description=u'width', max=30.0, step=0.5), Checkbox(value=False, description=u'log_scale'), Output()), _dom_classes=('widget-interact',))"
      ]
     },
     "metadata": {},
     "output_type": "display_data"
    }
   ],
   "source": [
    "# Convert the red-channel of the 'face' to a floating point array (value 0 to 1):\n",
    "face_R = face[:, :, 0].astype('float32')/255\n",
    "\n",
    "# Make it smaller to speed thing up a little....\n",
    "face_R = resize(face_R, (face_R.shape[0] / 5, face_R.shape[1] / 5))\n",
    "\n",
    "PSF_width_slider = FloatSlider(min=0.0, max=30, step=0.5, value=0, continuous_update=False)\n",
    "log_scale_check = Checkbox()\n",
    "\n",
    "# decorate the plot function with an environment from the UIs:\n",
    "@interact(width=PSF_width_slider, log_scale = log_scale_check)\n",
    "def compute_MTF(width, log_scale):\n",
    "    \n",
    "    # We can't actually use zero here so just make very small.\n",
    "    if width == 0.0:\n",
    "        width = 1e-10\n",
    "    \n",
    "    # convolve with a disk of varying radius\n",
    "    x = np.linspace(-20, 20, 41)\n",
    "    X, Y = np.meshgrid(x, x)\n",
    "    \n",
    "    PSF = 1.0 * np.logical_and(np.abs(X) <= width / 2, np.abs(Y) <= width / 2)\n",
    "    PSF_1D = 1.0 * (np.abs(x) <= width / 2)\n",
    "    kx = fft.fftshift(fft.fftfreq(len(x), 40))\n",
    "    MTF = np.abs(fft.ifftshift(fft.fft(fft.fftshift(PSF_1D))))\n",
    "    MTF = MTF/MTF[21]\n",
    "    \n",
    "    image = convolve2d(face_R, PSF, mode='same')\n",
    "    \n",
    "    f = pl.figure(figsize = (12, 5))\n",
    "    ax1 = f.add_subplot(231) \n",
    "    ax1.imshow(face_R, cmap = 'gray', interpolation = 'None')\n",
    "    ax1.set_title(r'Object $f(\\alpha, \\beta)$', fontsize = 20.0)\n",
    "    ax1.set_xticks([]), ax1.set_yticks([])\n",
    "    \n",
    "    ax2 = f.add_subplot(232) \n",
    "    ax2.plot(PSF_1D, 'k-')\n",
    "    ax2.set_title(r'PSF $h(\\alpha)$', fontsize = 20.0)\n",
    "    ax2.set_xticks([]), ax2.set_yticks([])\n",
    "    \n",
    "    ax3 = f.add_subplot(233)\n",
    "    ax3.imshow(image, cmap = 'gray', interpolation = 'None')\n",
    "    ax3.set_title(r'Image $g(x, y)$', fontsize = 20.0)\n",
    "    ax3.set_xticks([]), ax3.set_yticks([])\n",
    "    \n",
    "    \n",
    "    row_object = face_R[75, :]\n",
    "    row_object_fft = fft.ifftshift(fft.fft(fft.fftshift(row_object)))\n",
    "    \n",
    "    row_image = image[75, :]\n",
    "    row_image_fft = fft.ifftshift(fft.fft(fft.fftshift(row_image)))\n",
    "    \n",
    "    ax4 = f.add_subplot(234) \n",
    "    if log_scale:\n",
    "        ax4.semilogy(np.abs(row_object_fft/row_object_fft.max()), 'k-')\n",
    "        ax4.set_ylim((6e-4, 1))\n",
    "    else:\n",
    "        ax4.plot(np.abs(row_object_fft/row_object_fft.max()), 'k-')\n",
    "    ax4.set_title(r'$F(k_{x})$', fontsize = 20.0)\n",
    "    ax4.set_xticks([])\n",
    "    \n",
    "    ax5 = f.add_subplot(235) \n",
    "    if log_scale:\n",
    "        ax5.semilogy(MTF, 'k-')\n",
    "        ax5.set_ylim((6e-4, 1))\n",
    "    else:\n",
    "        ax5.plot(MTF, 'k-')\n",
    "    ax5.set_title(r'MTF $H(k_{x})$', fontsize = 20.0)\n",
    "    ax5.set_xticks([])\n",
    "    \n",
    "    ax6 = f.add_subplot(236) \n",
    "    if log_scale:\n",
    "        ax6.semilogy(np.abs(row_image_fft/row_image_fft.max()), 'k-')\n",
    "        ax6.set_ylim((6e-4, 1))\n",
    "    else:\n",
    "        ax6.plot(np.abs(row_image_fft/row_image_fft.max()), 'k-')\n",
    "    ax6.set_title(r'$G(k_{x})$', fontsize = 20.0)\n",
    "    ax6.set_xticks([])\n",
    "    \n",
    "    pl.tight_layout()\n",
    "    \n",
    "    pl.show()"
   ]
  },
  {
   "cell_type": "markdown",
   "metadata": {
    "slideshow": {
     "slide_type": "slide"
    }
   },
   "source": [
    "## Sampling Theory\n",
    "<div style=\"float: left; width: 50%;\">\n",
    "<br>\n",
    "<ul>\n",
    "    <li> Recall from the last lecture that an image is typically represented by 'pixels'.<br><br>\n",
    "    <li> The 'object' that we are trying to image will typically be continuous, whilst in the image we can only take a 'sample' of the spatial positions.<br><br>\n",
    "    <li> In addition, we can never sample the whole scene!  We only capture a small range of it.\n",
    "</ul>\n",
    "</div>\n",
    "<div style=\"float: right; width: 40%;\">\n",
    "<img src = \"images/FOV_resolution.jpg\", width = \"70%\">\n",
    "</div>"
   ]
  },
  {
   "cell_type": "code",
   "execution_count": 7,
   "metadata": {},
   "outputs": [
    {
     "data": {
      "application/vnd.jupyter.widget-view+json": {
       "model_id": "9f5211b6bfaa4235afbc2ff282beb774",
       "version_major": 2,
       "version_minor": 0
      },
      "text/html": [
       "<p>Failed to display Jupyter Widget of type <code>interactive</code>.</p>\n",
       "<p>\n",
       "  If you're reading this message in the Jupyter Notebook or JupyterLab Notebook, it may mean\n",
       "  that the widgets JavaScript is still loading. If this message persists, it\n",
       "  likely means that the widgets JavaScript library is either not installed or\n",
       "  not enabled. See the <a href=\"https://ipywidgets.readthedocs.io/en/stable/user_install.html\">Jupyter\n",
       "  Widgets Documentation</a> for setup instructions.\n",
       "</p>\n",
       "<p>\n",
       "  If you're reading this message in another frontend (for example, a static\n",
       "  rendering on GitHub or <a href=\"https://nbviewer.jupyter.org/\">NBViewer</a>),\n",
       "  it may mean that your frontend doesn't currently support widgets.\n",
       "</p>\n"
      ],
      "text/plain": [
       "interactive(children=(FloatSlider(value=1.0, continuous_update=False, description=u'zoom', max=70.0, min=1.0, step=1.0), Output()), _dom_classes=('widget-interact',))"
      ]
     },
     "metadata": {},
     "output_type": "display_data"
    }
   ],
   "source": [
    "# Extract the red colour channel from the image\n",
    "R_channel = face[::-1, :, 0]\n",
    "\n",
    "zoom_slider = FloatSlider(min=1.00, max=70.0, step=1, value=1.0, continuous_update=False)\n",
    "\n",
    "# decorate the plot function with an environment from the UIs:\n",
    "@interact(zoom=zoom_slider)\n",
    "def plot_zoom(zoom):\n",
    "    fig = pl.figure(figsize = (18, 5))\n",
    "    ax = fig.add_subplot(111)\n",
    "    ax.imshow(R_channel, cmap = 'gray', interpolation = 'None', origin = 'upper')\n",
    "\n",
    "    # Set the viewport to display a zoomed in version of the image\n",
    "    zoom_factor = 1.0/zoom\n",
    "    xRange = [int(face.shape[1] / 2 * (1 - zoom_factor)), int(face.shape[1] / 2 * (1 + zoom_factor))]\n",
    "    yRange = [int(face.shape[0] / 2 * (1 - zoom_factor)), int(face.shape[0] / 2 * (1 + zoom_factor))]\n",
    "    ax.set_xlim(*xRange)\n",
    "    ax.set_ylim(*yRange)\n",
    "    ax.set_xticks([]), ax.set_yticks([])\n",
    "\n",
    "    # If the zoom factor is high enough then display the pixel values\n",
    "    if zoom >= 50:\n",
    "        for i in range(xRange[0]+1, xRange[1]):\n",
    "            for j in range(yRange[0]+1, yRange[1]):\n",
    "                if R_channel[j, i] < 100:\n",
    "                    color = 'w'\n",
    "                else:\n",
    "                    color = 'k'\n",
    "                ax.text(i, j, \"%d\"%R_channel[j, i],\n",
    "                        verticalalignment = 'center', horizontalalignment = 'center', \n",
    "                        color = color, fontsize = 10)\n",
    "\n",
    "    pl.show()"
   ]
  },
  {
   "cell_type": "markdown",
   "metadata": {
    "slideshow": {
     "slide_type": "subslide"
    }
   },
   "source": [
    "## Comb  Functions\n",
    " - So how can we represent this mathematically? <br><br>\n",
    " - We can make use of two neat functions, the 'comb' function and the rectangle function, which allowa us to model the sampling process.<br><br>\n",
    " - Note: The steps we take below are in 1D but can be extended to 2D where required."
   ]
  },
  {
   "cell_type": "code",
   "execution_count": 4,
   "metadata": {
    "code_folding": [],
    "scrolled": false
   },
   "outputs": [
    {
     "data": {
      "image/png": "[encoded data removed]",
      "text/plain": [
       "<matplotlib.figure.Figure at 0x1142e0ed0>"
      ]
     },
     "metadata": {},
     "output_type": "display_data"
    }
   ],
   "source": [
    "def example_function(x):\n",
    "    return 0.6*np.cos(np.pi*2*0.23*x) + 0.4*np.sin(np.pi*2*0.1*x)\n",
    "\n",
    "def plot_sampling_functions():\n",
    "    fs = 12.0\n",
    "    \n",
    "    f = pl.figure(figsize = (20, 4))\n",
    "    \n",
    "    ax1 = f.add_subplot(141)\n",
    "    x = np.linspace(-4, 4, 9)\n",
    "    xticks = ['...']\n",
    "    for x_ in x:\n",
    "        ax1.plot([x_, x_], [0, 1], 'k^-')\n",
    "        xticks.append(r'%dr$_{x}$'%x_)\n",
    "    xticks.append('...')\n",
    "    pl.xticks(np.linspace(-5, 5, 11), xticks, fontsize = fs)\n",
    "    ax1.set_ylim((0, 1.2))\n",
    "    ax1.set_yticks([])\n",
    "    ax1.set_title(r'comb$(x, r_{x}) = \\frac{1}{r_{x}}\\cdot\\sum_{n = -\\infty}^{\\infty}\\delta\\left(\\frac{x}{r_{x}} - n\\right)$', fontsize = fs)\n",
    "    ax1.set_xlabel(r'$x$', fontsize = fs)\n",
    "    ax1.spines['right'].set_visible(False), ax1.spines['top'].set_visible(False)\n",
    "    \n",
    "    ax2 = f.add_subplot(142)\n",
    "    ax2.plot([-0.5, -0.5, 0.5, 0.5], [0, 1, 1, 0], 'k-')\n",
    "    pl.xticks((-0.5, 0, 0.5), (r'$-\\frac{\\Delta_{x}}{2}$', '0', r'$\\frac{\\Delta_{x}}{2}$'), fontsize = fs)\n",
    "    ax2.set_xlim(-1, 1), ax2.set_ylim((0, 1.2))\n",
    "    pl.yticks([0, 1])  \n",
    "    ax2.set_title(\"rect$(x, \\Delta_{x}) = 1 $ if $|x| < \\\\frac{\\Delta_{x}}{2}$\\n.                   0 otherwise\", fontsize = fs)\n",
    "    ax2.set_xlabel(r'$x$', fontsize = fs)\n",
    "    ax2.spines['right'].set_visible(False), ax2.spines['top'].set_visible(False)\n",
    "    \n",
    "    ax3 = f.add_subplot(143)\n",
    "    x_continous = np.linspace(-6, 6, 1000)\n",
    "    f_continuous = example_function(x_continous)\n",
    "    ax3.plot(x_continous, f_continuous, 'k-')\n",
    "    ax3.set_xlim(-6, 6), ax3.set_ylim((-1.2, 1.2))\n",
    "    pl.xticks([]), pl.yticks([])  \n",
    "    ax3.set_title(\"Continuous Image\\nf(x)\", fontsize = fs)\n",
    "    ax3.set_xlabel(r'$x$', fontsize = fs)\n",
    "    ax3.spines['bottom'].set_position('center')\n",
    "    ax3.spines['right'].set_visible(False), ax3.spines['top'].set_visible(False)\n",
    "    \n",
    "    ax4 = f.add_subplot(144)\n",
    "    f_sampled = example_function(x)\n",
    "    ax4.plot(x_continous, f_continuous, 'b--', lw = 1.0)\n",
    "    for i in range(len(x)):\n",
    "        ax4.plot([x[i], x[i]], [0, f_sampled[i]], 'ko-')\n",
    "    ax4.set_xlim(-6, 6), ax4.set_ylim((-1.2, 1.2))\n",
    "    pl.xticks([]), pl.yticks([])  \n",
    "    ax4.set_title(\"Sampled Image\\nf$_{s}$(x) = f(x) $\\cdot$  rect$(x, \\Delta_{x})$ $\\cdot$ comb$(x, r_{x})$\", fontsize = fs)\n",
    "    ax4.set_xlabel(r'$x$', fontsize = fs)\n",
    "    ax4.spines['bottom'].set_position('center')\n",
    "    ax4.spines['right'].set_visible(False), ax4.spines['top'].set_visible(False)\n",
    "    \n",
    "    pl.show()\n",
    "\n",
    "plot_sampling_functions()"
   ]
  },
  {
   "cell_type": "markdown",
   "metadata": {
    "slideshow": {
     "slide_type": "subslide"
    }
   },
   "source": [
    "## Finite Apetures and Sampling Rates\n",
    " <ul>\n",
    " <li>What does this do for the image frequencies?<br><br>\n",
    " <li>We know that the ferquency components of a continuous function, $f(x)$, can be found from its Fourier transform:\n",
    " $$\n",
    "     F(k_{x}) = \\text{FT}\\{f(x)\\} = \\int\\limits_{-\\infty}^{\\infty}f(x)e^{-i2\\pi k_{x}x}\\text{d}x\n",
    " $$\n",
    " <li>So what is the Fourier transform of the sampled image:<br><br>\n",
    " \\begin{align}\n",
    "     F_{s}(k_{x}) &= \\text{FT}\\left\\{f(x) \\cdot  \\text{rect}(x, \\Delta_{x}) \\cdot \\text{comb}(x, r_{x}) \\right\\} \\\\\\\\\n",
    "                  &= \\text{FT}\\left\\{f(x)\\right\\} \\circledast \\text{FT}\\left\\{\\text{rect}(x, \\Delta_{x})\\right\\} \\circledast \\text{FT}\\left\\{\\text{comb}(x, r_{x})\\right\\} \\qquad \\text{(Convolution Theorem)}\\\\\\\\\n",
    "                  &= F(k_{x}) \\circledast \\left\\{\\Delta_{x}\\cdot \\text{sinc}\\left( \\Delta_{x} k_{x} \\right)\\right\\} \\circledast \\left\\{r_{x}\\cdot\\text{comb}\\left(k_{x}, 1/r_{x}\\right)\\right\\}\n",
    " \\end{align}<br>\n",
    " \n",
    " <li>The first of these terms is the frequency spectrum of the true (unsampled) scene. <br><br>\n",
    " <li>The second term results in a 'blurring out' of the frequency space.  This provides a limit to the possible resolution that we can sample the frequency spectrum, but not of much concern here. <br><br>\n",
    " <li>The third term means that the frequency spectrum is repeated with periods of $\\frac{1}{k_{x}}$.  This can lead to __aliasing__, which degrades the final image quality.\n",
    "</ul>"
   ]
  },
  {
   "cell_type": "markdown",
   "metadata": {
    "slideshow": {
     "slide_type": "subslide"
    }
   },
   "source": [
    "## The Nyquist-Shannon Theorem\n",
    " - Consider the illustration below, which demonstrates the effect of convolving the continuous imaging frequency spectrum with a comb function with spacing 1 / r$_{x}$. <br><br>\n",
    " - Due to the overlap of the periodic spectra, any frequencies with $|k_{x}| > \\frac{1}{2r_{x}}$ are affected by overlap with the next repetation of frequencies.  <br><br>\n",
    " - The __badnwidth__ of such a system is thus $\\Omega = \\frac{1}{2r_{x}}$ (this can be thought of as the field-of-view of the frequency domain).<br><br>\n",
    " - Any frequencies in the image greater than this limit cannot be resolved!"
   ]
  },
  {
   "cell_type": "code",
   "execution_count": 14,
   "metadata": {},
   "outputs": [
    {
     "data": {
      "image/png": "[encoded data removed]",
      "text/plain": [
       "<matplotlib.figure.Figure at 0x11373c210>"
      ]
     },
     "metadata": {},
     "output_type": "display_data"
    }
   ],
   "source": [
    "fs = 15.0\n",
    "    \n",
    "x_sampled = np.linspace(-4, 4, 9)\n",
    "x_continous = np.linspace(-6, 6, 1000)\n",
    "\n",
    "f_continuous = example_function(x_continous)\n",
    "f_sampled = example_function(x_sampled)\n",
    "\n",
    "# Note!  These data are fake and for illiustrative purposes only.\n",
    "F_continuous = np.abs(np.sinc(5*x_continous))\n",
    "F_sampled = F_continuous + np.roll(F_continuous, -len(F_continuous)/4) + np.roll(F_continuous, len(F_continuous)/4) + np.roll(F_continuous, -len(F_continuous)/2)\n",
    "F_sampled = F_sampled / F_sampled.max()\n",
    "\n",
    "f = pl.figure(figsize = (15, 5))\n",
    "\n",
    "ax1 = f.add_subplot(121)\n",
    "ax1.plot(x_continous, f_continuous, 'r-', label = \"Image, f(x)\", zorder = 1)\n",
    "\n",
    "for i in range(len(x_sampled)):\n",
    "    if i == 0:\n",
    "        ax1.plot([x_sampled[i], x_sampled[i]], [0, f_sampled[i]], 'ko-', label = \"Sampled Image, f$_{s}$(x)\", zorder = 2)\n",
    "    else:\n",
    "        ax1.plot([x_sampled[i], x_sampled[i]], [0, f_sampled[i]], 'ko-', zorder = 2)\n",
    "\n",
    "\n",
    "ax1.set_xlim(-6, 6), ax1.set_ylim((-1.4, 1.4))\n",
    "pl.xticks([]), pl.yticks([])  \n",
    "ax1.set_xlabel(r'$x$', fontsize = fs)\n",
    "ax1.spines['bottom'].set_position('center')\n",
    "ax1.spines['right'].set_visible(False), ax1.spines['top'].set_visible(False)\n",
    "pl.legend(loc = 1, fontsize = 12)\n",
    "\n",
    "ax2 = f.add_subplot(122)\n",
    "ax2.plot(x_continous, F_continuous, 'r-', label = \"Image Frequencies, F(k$_{x}$)\", zorder = 2)\n",
    "ax2.plot(x_continous, F_sampled, 'k-', label = \"Sampled Image Frequencies, F$_{s}$(k$_{x}$)\", zorder = 1)\n",
    "ax2.set_xlim(-6, 6), ax2.set_ylim((0, 1.3))\n",
    "pl.yticks([]), pl.xticks([-6, -3, 0, 3, 6], [\"$\\\\frac{-2}{r_{x}}$\", \"$\\\\frac{-1}{r_{x}}$\", \"$\\\\frac{0}{r_{x}}$\", \"$\\\\frac{1}{r_{x}}$\", \"$\\\\frac{2}{r_{x}}$\"], fontsize = fs)  \n",
    "ax2.set_xlabel(r'$k_{x}$', fontsize = fs)\n",
    "ax2.spines['right'].set_visible(False), ax2.spines['top'].set_visible(False)\n",
    "pl.legend(loc = 1, fontsize = 12)\n",
    "\n",
    "pl.show()"
   ]
  },
  {
   "cell_type": "markdown",
   "metadata": {
    "slideshow": {
     "slide_type": "subslide"
    }
   },
   "source": [
    "## Aliasing\n",
    " - For sampling frequencies $\\frac{1}{r_{x}} \\leq 2\\Omega$, then the signal becomes __aliased__: "
   ]
  },
  {
   "cell_type": "code",
   "execution_count": 25,
   "metadata": {
    "scrolled": false
   },
   "outputs": [
    {
     "data": {
      "application/vnd.jupyter.widget-view+json": {
       "model_id": "4265b4b45375433f9e013ea1ab36435e",
       "version_major": 2,
       "version_minor": 0
      },
      "text/html": [
       "<p>Failed to display Jupyter Widget of type <code>interactive</code>.</p>\n",
       "<p>\n",
       "  If you're reading this message in the Jupyter Notebook or JupyterLab Notebook, it may mean\n",
       "  that the widgets JavaScript is still loading. If this message persists, it\n",
       "  likely means that the widgets JavaScript library is either not installed or\n",
       "  not enabled. See the <a href=\"https://ipywidgets.readthedocs.io/en/stable/user_install.html\">Jupyter\n",
       "  Widgets Documentation</a> for setup instructions.\n",
       "</p>\n",
       "<p>\n",
       "  If you're reading this message in another frontend (for example, a static\n",
       "  rendering on GitHub or <a href=\"https://nbviewer.jupyter.org/\">NBViewer</a>),\n",
       "  it may mean that your frontend doesn't currently support widgets.\n",
       "</p>\n"
      ],
      "text/plain": [
       "interactive(children=(FloatSlider(value=30.0, continuous_update=False, description=u'frequency', max=120.0, step=0.5), FloatSlider(value=300.0, continuous_update=False, description=u'sample_freq', max=300.0, step=1.0), Output()), _dom_classes=('widget-interact',))"
      ]
     },
     "metadata": {},
     "output_type": "display_data"
    }
   ],
   "source": [
    "freqeuncy_slider = FloatSlider(min=0.0, max=120, step=0.5, value=30, continuous_update=False)\n",
    "sampling_freqeuncy_slider = FloatSlider(min=0.0, max=300, step=1, value=300, continuous_update=False)\n",
    "    \n",
    "# decorate the plot function with an environment from the UIs:\n",
    "@interact(frequency=freqeuncy_slider, sample_freq = sampling_freqeuncy_slider)\n",
    "def convolute_PSF(frequency, sample_freq):\n",
    "    \n",
    "    f = pl.figure(figsize = (15, 6))\n",
    "    \n",
    "    x_full = np.linspace(-0.5, 0.5, 1000)\n",
    "    signal_full = np.cos(2*np.pi*x_full*frequency)\n",
    "    \n",
    "    x_sampled = np.linspace(-0.5, 0.5, int(sample_freq)+1)\n",
    "    signal_sampled = np.cos(2*np.pi*x_sampled*frequency)\n",
    "    \n",
    "    ax1 = f.add_subplot(121)\n",
    "    ax1.plot(x_full, signal_full, 'k-', lw = 2.0)\n",
    "    ax1.plot(x_sampled, signal_sampled, 'ro', ms = 4)\n",
    "    ax1.set_xlabel(\"x\")\n",
    "    \n",
    "    ax2 = f.add_subplot(122)\n",
    "    ax2.plot(x_sampled, signal_sampled, 'k-', lw = 2.0)\n",
    "    ax2.set_xlabel(\"x\")\n",
    "    \n",
    "    pl.show()"
   ]
  },
  {
   "cell_type": "markdown",
   "metadata": {
    "slideshow": {
     "slide_type": "subslide"
    }
   },
   "source": [
    "## Aliasing\n",
    " - What does this mean for images?"
   ]
  },
  {
   "cell_type": "code",
   "execution_count": 12,
   "metadata": {
    "scrolled": false
   },
   "outputs": [
    {
     "data": {
      "application/vnd.jupyter.widget-view+json": {
       "model_id": "76b77461c8664dd5ac0cd1798025113a",
       "version_major": 2,
       "version_minor": 0
      },
      "text/html": [
       "<p>Failed to display Jupyter Widget of type <code>interactive</code>.</p>\n",
       "<p>\n",
       "  If you're reading this message in the Jupyter Notebook or JupyterLab Notebook, it may mean\n",
       "  that the widgets JavaScript is still loading. If this message persists, it\n",
       "  likely means that the widgets JavaScript library is either not installed or\n",
       "  not enabled. See the <a href=\"https://ipywidgets.readthedocs.io/en/stable/user_install.html\">Jupyter\n",
       "  Widgets Documentation</a> for setup instructions.\n",
       "</p>\n",
       "<p>\n",
       "  If you're reading this message in another frontend (for example, a static\n",
       "  rendering on GitHub or <a href=\"https://nbviewer.jupyter.org/\">NBViewer</a>),\n",
       "  it may mean that your frontend doesn't currently support widgets.\n",
       "</p>\n"
      ],
      "text/plain": [
       "interactive(children=(IntSlider(value=1, continuous_update=False, description=u'sample_rate', max=20, min=1), Output()), _dom_classes=('widget-interact',))"
      ]
     },
     "metadata": {},
     "output_type": "display_data"
    }
   ],
   "source": [
    "# Convert the red-channel of the 'face' to a floating point array (value 0 to 1):\n",
    "face_R = face[:, :, 0].astype('float32')/255\n",
    "\n",
    "sample_slider = IntSlider(min=1, max=20, step=1, value=1, continuous_update=False)\n",
    "    \n",
    "# decorate the plot function with an environment from the UIs:\n",
    "@interact(sample_rate=sample_slider)\n",
    "def aliasing(sample_rate):\n",
    "    \n",
    "    f = pl.figure(figsize = (10, 10))\n",
    "    ax = f.add_subplot(111)\n",
    "    ax.imshow(face_R[0::sample_rate, 0::sample_rate], cmap = 'gray', interpolation = 'None')\n",
    "    ax.set_xticks([]), ax.set_yticks([])\n",
    "    pl.show()"
   ]
  },
  {
   "cell_type": "markdown",
   "metadata": {
    "slideshow": {
     "slide_type": "subslide"
    }
   },
   "source": [
    "## Anti-Aliasing \n",
    "- To help remove the effects of aliasing, one approach is to blur the images first (pre-sample blurring).<br><br>\n",
    "- Why does this work?"
   ]
  },
  {
   "cell_type": "code",
   "execution_count": 13,
   "metadata": {},
   "outputs": [
    {
     "data": {
      "application/vnd.jupyter.widget-view+json": {
       "model_id": "5895be1b928c4c259d3b8b9652ba1df9",
       "version_major": 2,
       "version_minor": 0
      },
      "text/html": [
       "<p>Failed to display Jupyter Widget of type <code>interactive</code>.</p>\n",
       "<p>\n",
       "  If you're reading this message in the Jupyter Notebook or JupyterLab Notebook, it may mean\n",
       "  that the widgets JavaScript is still loading. If this message persists, it\n",
       "  likely means that the widgets JavaScript library is either not installed or\n",
       "  not enabled. See the <a href=\"https://ipywidgets.readthedocs.io/en/stable/user_install.html\">Jupyter\n",
       "  Widgets Documentation</a> for setup instructions.\n",
       "</p>\n",
       "<p>\n",
       "  If you're reading this message in another frontend (for example, a static\n",
       "  rendering on GitHub or <a href=\"https://nbviewer.jupyter.org/\">NBViewer</a>),\n",
       "  it may mean that your frontend doesn't currently support widgets.\n",
       "</p>\n"
      ],
      "text/plain": [
       "interactive(children=(IntSlider(value=10, continuous_update=False, description=u'sample_rate', max=20, min=1), IntSlider(value=1, continuous_update=False, description=u'blur_window', max=20, min=1), Output()), _dom_classes=('widget-interact',))"
      ]
     },
     "metadata": {},
     "output_type": "display_data"
    }
   ],
   "source": [
    "from skimage.morphology import disk\n",
    "from skimage.filters import rank\n",
    "\n",
    "# Convert the red-channel of the 'face' to a floating point array (value 0 to 1):\n",
    "face_R = face[:, :, 0].astype('float32')/255\n",
    "\n",
    "blur_sample_slider = IntSlider(min=1, max=20, step=1, value=1, continuous_update=False)\n",
    "blur_window_slider = IntSlider(min=1, max=20, step=1, value=1, continuous_update=False)\n",
    "    \n",
    "# decorate the plot function with an environment from the UIs:\n",
    "@interact(sample_rate=sample_slider, blur_window = blur_window_slider)\n",
    "def blur_aliasing(sample_rate, blur_window):\n",
    "    \n",
    "    element = disk(blur_window)\n",
    "    face_R_blur = rank.mean(face_R, selem=element)\n",
    "    \n",
    "    f = pl.figure(figsize = (12, 10))\n",
    "    \n",
    "    ax1 = f.add_subplot(121)\n",
    "    ax1.imshow(face_R[0::sample_rate, 0::sample_rate], cmap = 'gray', interpolation = 'None')\n",
    "    ax1.set_xticks([]), ax1.set_yticks([])\n",
    "    ax1.set_title(\"Original Image\")\n",
    "    \n",
    "    ax2 = f.add_subplot(122)\n",
    "    ax2.imshow(face_R_blur[0::sample_rate, 0::sample_rate], cmap = 'gray', interpolation = 'None')\n",
    "    ax2.set_xticks([]), ax2.set_yticks([])\n",
    "    ax2.set_title(\"Blurred Image\")\n",
    "    \n",
    "    pl.tight_layout()\n",
    "    \n",
    "    pl.show()"
   ]
  }
 ],
 "metadata": {
  "celltoolbar": "Slideshow",
  "kernelspec": {
   "display_name": "Python 2",
   "language": "python",
   "name": "python2"
  },
  "language_info": {
   "codemirror_mode": {
    "name": "ipython",
    "version": 2
   },
   "file_extension": ".py",
   "mimetype": "text/x-python",
   "name": "python",
   "nbconvert_exporter": "python",
   "pygments_lexer": "ipython2",
   "version": "2.7.14"
  }
 },
 "nbformat": 4,
 "nbformat_minor": 2
}
