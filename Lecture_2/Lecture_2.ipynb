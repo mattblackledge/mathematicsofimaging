{
 "cells": [
  {
   "cell_type": "code",
   "execution_count": 48,
   "metadata": {
    "code_folding": [],
    "slideshow": {
     "slide_type": "notes"
    }
   },
   "outputs": [
    {
     "data": {
      "text/html": [
       "<style>.container { width:95% !important; }</style>"
      ],
      "text/plain": [
       "<IPython.core.display.HTML object>"
      ]
     },
     "metadata": {},
     "output_type": "display_data"
    },
    {
     "data": {
      "text/html": [
       "<script>\n",
       "    code_show=true; \n",
       "    function code_toggle() {\n",
       "         if (code_show){\n",
       "         $('div.input').hide();\n",
       "         } else {\n",
       "         $('div.input').show();\n",
       "         }\n",
       "         code_show = !code_show\n",
       "    } \n",
       "    $( document ).ready(code_toggle);\n",
       "    </script>\n",
       "    <form action=\"javascript:code_toggle()\"><input type=\"submit\" value=\"Click here to toggle on/off the raw code.\"></form>\n",
       "    "
      ],
      "text/plain": [
       "<IPython.core.display.HTML object>"
      ]
     },
     "execution_count": 48,
     "metadata": {},
     "output_type": "execute_result"
    }
   ],
   "source": [
    "# Essential plotting and scientific libraries\n",
    "import matplotlib.pyplot as pl\n",
    "from matplotlib.colors import LinearSegmentedColormap\n",
    "%matplotlib inline\n",
    "import numpy as np\n",
    "\n",
    "from numpy import fft\n",
    "\n",
    "from skimage.io import imread\n",
    "from skimage.transform import resize\n",
    "\n",
    "# IPython display imports\n",
    "from ipywidgets import interact, FloatSlider, IntSlider, RadioButtons, Button, HBox, VBox\n",
    "from IPython.display import Image, display, clear_output\n",
    "\n",
    "\n",
    "from scipy.misc import face\n",
    "face = face() # An example image we can use\n",
    "from scipy.signal import convolve2d\n",
    "\n",
    "import wave\n",
    "\n",
    "from IPython.core.display import display, HTML\n",
    "display(HTML(\"<style>.container { width:95% !important; }</style>\"))\n",
    "\n",
    "import warnings\n",
    "warnings.filterwarnings(\"ignore\", category=DeprecationWarning)\n",
    "\n",
    "HTML('''<script>\n",
    "    code_show=true; \n",
    "    function code_toggle() {\n",
    "         if (code_show){\n",
    "         $('div.input').hide();\n",
    "         } else {\n",
    "         $('div.input').show();\n",
    "         }\n",
    "         code_show = !code_show\n",
    "    } \n",
    "    $( document ).ready(code_toggle);\n",
    "    </script>\n",
    "    <form action=\"javascript:code_toggle()\"><input type=\"submit\" value=\"Click here to toggle on/off the raw code.\"></form>\n",
    "    ''')"
   ]
  },
  {
   "cell_type": "markdown",
   "metadata": {
    "slideshow": {
     "slide_type": "slide"
    }
   },
   "source": [
    "## Describing Imaging Systems\n",
    "<div style=\"float: left; width: 45%;\">\n",
    "<br>\n",
    "<ul>\n",
    "<li> No imaging system is perfect!  <br><br>\n",
    "<li> Images only provide a reasonable approximation of the underlying object we are trying to capture. <br><br>\n",
    "<li> For example, medical images typically provide some information about a particular biological property of the tissue at a given position in space, $(x, y)$ <br><br>\n",
    "</ul>\n",
    "</div>\n",
    "<div style=\"float: right; width: 50%;\">\n",
    " <img src='images/medical_image_examples.jpg' width = '80%'>\n",
    "</div>"
   ]
  },
  {
   "cell_type": "markdown",
   "metadata": {
    "slideshow": {
     "slide_type": "subslide"
    }
   },
   "source": [
    "## Describing Imaging Systems\n",
    "<div style=\"float: left; width: 45%;\">\n",
    "<br>\n",
    "<ul>\n",
    "    <li> In the following slides we introduce a general formulation for characterising imaging systems.<br><br>\n",
    "    <li> We deonte the <b>object</b> as $f(\\alpha, \\beta)$ , and the <b>image</b> as $g(x, y)$<sup>1</sup><br><br>\n",
    "    <li> We also typically assume that $f(\\alpha, \\beta) \\in \\mathbb{R}^{+}$ and $g(x, y) \\in \\mathbb{R}^{+}$<br><br>\n",
    "    <li> In its most general sense, the imaging system can be thought of as an operator, $\\mathcal{H}$, operating on the opbject to produce the image.<br><br>\n",
    "</ul>\n",
    "<hr></hr>\n",
    "<sup>1. Here we assume we are working with 2D images, but these methods are applicable to 3 or more dimensions as well!</sup>\n",
    "</div>\n",
    "<br><br><br>\n",
    "<div style=\"float: right; width: 50%;\">\n",
    "<img src='images/image_object.jpg' width = '90%'>\n",
    "</div>"
   ]
  },
  {
   "cell_type": "markdown",
   "metadata": {
    "slideshow": {
     "slide_type": "subslide"
    }
   },
   "source": [
    "## Linear Imaging Systems\n",
    "<ul>\n",
    "    <li>Consider now that the same imaging system is used to capture images, $g_{1}(x, y)$ and $g_{2}(x, y)$, of two objects, $f_{1}(\\alpha, \\beta)$ and $f_{2}(\\alpha, \\beta)$ respectively.<br><br>\n",
    "    <li> A <b>linear imaging system</b> is one that satisfies the following property:<br><br>\n",
    "\\begin{align}\n",
    "\\mathcal{H}\\left(g_{1} + g_{2}\\right) &= \\mathcal{H}\\left(g_{1}\\right) + \\mathcal{H}\\left(g_{2}\\right) \\\\ \n",
    "        &= f_{1} + f_{2}\n",
    "\\end{align}<br>\n",
    "     <li> For example, in PET imaging, if the concentration of radioactive tracer doubles, then so does the intensity on the final image.  Another example could be doubling of the exposure time when taking a picture (although there will be a limit!)<br><br>\n",
    "     <li> In practise nearly all imaging systems are considered to be linear.\n",
    "</ul>"
   ]
  },
  {
   "cell_type": "markdown",
   "metadata": {
    "slideshow": {
     "slide_type": "subslide"
    }
   },
   "source": [
    "## Point-Spread Function\n",
    "<div style=\"float: left; width: 50%;\">\n",
    "<br>\n",
    "<ul>\n",
    "    <li> Lets go back to our example of the pin-hole camera with a finite aperture.<br><br>\n",
    "    <li> What happens if we use a point-source at position $(\\alpha, \\beta)$ as the object: $f(\\alpha', \\beta') = \\delta(\\alpha' - \\alpha, \\beta' - \\beta)$?<br><br>\n",
    "    <li> We will end up with the <b>point-spread function</b> (PSF) describing the imaging-system for the location of the point source, $h(x, y; \\alpha, \\beta)$.<br><br>\n",
    "    <li> The final image will be the sum (integral) of the contribution from all point-sources that make up the object (assuming the imaging system is linear):\n",
    "    $$\n",
    "    g(x, y) = \\iint\\limits_{-\\infty}^{\\infty} h(x, y; \\alpha, \\beta)\\cdot f(\\alpha, \\beta)\\text{d}\\alpha\\text{d}\\beta\n",
    "    $$\n",
    "</ul>\n",
    "</div>\n",
    "<br><br><br>\n",
    "<div style=\"float: right; width: 40%;\">\n",
    "    <img src='images/pinhole_projection.jpg' width = '90%'>\n",
    "</div>"
   ]
  },
  {
   "cell_type": "markdown",
   "metadata": {
    "slideshow": {
     "slide_type": "subslide"
    }
   },
   "source": [
    "## Shift Invariance\n",
    "<div style=\"float: left; width: 40%;\">\n",
    "<br>\n",
    "<ul>\n",
    "    <li>If the PSF is <b>shift invariant</b> then $h$ will not change for different positions in the source frame-of-reference.<br><br>\n",
    "    <li> Instead, the final image will be a <b>convolution</b> of the shift-invariant PSF with the object:<br><br>\n",
    "        \\begin{align}\n",
    "            g(x, y) &= \\iint\\limits_{-\\infty}^{\\infty} h(x-\\alpha, y-\\beta)\\cdot f(\\alpha, \\beta)\\text{d}\\alpha\\text{d}\\beta            \n",
    "        \\end{align}\n",
    "        <br>\n",
    "    <li> In practice nearly all imaging systems are considered to be shift invariant (even if it is know they are not!).\n",
    "</ul>\n",
    "</div>\n",
    "<div style=\"float: right; width: 50%;\">\n",
    "    <img src='images/PSF_examples.jpg' width = '90%'>\n",
    "</div>"
   ]
  },
  {
   "cell_type": "markdown",
   "metadata": {
    "slideshow": {
     "slide_type": "subslide"
    }
   },
   "source": [
    "## Example of the PSF\n",
    "This example taken from earlier on works as a good example of the (shift-invariant) PSF in action.  Using a Guassian distribution as the PSF and increasing the variance of the distribution appears to make the image more blurry!"
   ]
  },
  {
   "cell_type": "code",
   "execution_count": 47,
   "metadata": {
    "slideshow": {
     "slide_type": "-"
    }
   },
   "outputs": [
    {
     "data": {
      "application/vnd.jupyter.widget-view+json": {
       "model_id": "147a1b9d283049b990a4c1373d809f21",
       "version_major": 2,
       "version_minor": 0
      },
      "text/html": [
       "<p>Failed to display Jupyter Widget of type <code>interactive</code>.</p>\n",
       "<p>\n",
       "  If you're reading this message in the Jupyter Notebook or JupyterLab Notebook, it may mean\n",
       "  that the widgets JavaScript is still loading. If this message persists, it\n",
       "  likely means that the widgets JavaScript library is either not installed or\n",
       "  not enabled. See the <a href=\"https://ipywidgets.readthedocs.io/en/stable/user_install.html\">Jupyter\n",
       "  Widgets Documentation</a> for setup instructions.\n",
       "</p>\n",
       "<p>\n",
       "  If you're reading this message in another frontend (for example, a static\n",
       "  rendering on GitHub or <a href=\"https://nbviewer.jupyter.org/\">NBViewer</a>),\n",
       "  it may mean that your frontend doesn't currently support widgets.\n",
       "</p>\n"
      ],
      "text/plain": [
       "interactive(children=(FloatSlider(value=0.0, continuous_update=False, description=u'variance', max=30.0, step=0.5, _dom_classes=('mytext',)), Output()), _dom_classes=('widget-interact',))"
      ]
     },
     "metadata": {},
     "output_type": "display_data"
    }
   ],
   "source": [
    "# Convert the red-channel of the 'face' to a floating point array (value 0 to 1):\n",
    "face_R = face[:, :, 0].astype('float32')/255\n",
    "\n",
    "# Make it smaller to speed thing up a little....\n",
    "face_R = resize(face_R, (face_R.shape[0] / 5, face_R.shape[1] / 5))\n",
    "\n",
    "PSF_variance_slider = FloatSlider(min=0.0, max=30, step=0.5, value=0, continuous_update=False)\n",
    "PSF_variance_slider.add_class(\"mytext\")\n",
    "    \n",
    "# decorate the plot function with an environment from the UIs:\n",
    "@interact(variance=PSF_variance_slider)\n",
    "def convolute_PSF(variance):\n",
    "    \n",
    "    # We can't actually use zero here so just make very small.\n",
    "    if variance == 0.0:\n",
    "        variance = 1e-10\n",
    "    \n",
    "    # convolve with a disk of varying radius\n",
    "    x = np.linspace(-20, 20, 41)\n",
    "    X, Y = np.meshgrid(x, x)\n",
    "    \n",
    "    gaussian = (1.0 / (2*np.pi*np.sqrt(variance))) * np.exp(-0.5 * (X**2 + Y**2) / variance)\n",
    "    \n",
    "    f = pl.figure(figsize = (25, 6))\n",
    "    ax1 = f.add_subplot(131) \n",
    "    ax1.imshow(gaussian / gaussian.max(), cmap = 'gray', clim = (0, 1), interpolation = 'None')\n",
    "    ax1.set_title(r'$PSF, h(x - \\alpha, y - \\beta)$', fontsize = 20.0)\n",
    "    \n",
    "    ax2 = f.add_subplot(132)\n",
    "    ax2.imshow(face_R, cmap = 'gray', interpolation = 'None')\n",
    "    ax2.set_title(r'$f(\\alpha, \\beta)$', fontsize = 20.0)\n",
    "    \n",
    "    ax3 = f.add_subplot(133)\n",
    "    ax3.imshow(convolve2d(face_R, gaussian, mode='same'), cmap = 'gray', interpolation = 'None')\n",
    "    ax3.set_title(r'$g(x, y)$', fontsize = 20.0)\n",
    "    \n",
    "    pl.show()"
   ]
  },
  {
   "cell_type": "markdown",
   "metadata": {
    "slideshow": {
     "slide_type": "subslide"
    }
   },
   "source": [
    "## Transfer Functions\n",
    "<ul>\n",
    "    <li> Recall the convoilution theorem, which states that the Fourier transform of the convolution between two signals, $f$ and $h$, is equal to the product of the fourier trannform of each signal, $F$ and $H$ respectively. <br><br>\n",
    "    <li> In two-dimensions this means that we have:<br><br>\n",
    "    \\begin{align}\n",
    "       \\text{FT}\\left\\{ g(x, y) \\right\\} &= \\text{FT}\\left\\{\\iint\\limits_{-\\infty}^{\\infty}h(x-\\alpha, y-\\beta)\\cdot f(\\alpha, \\beta)\\text{d}\\alpha \\text{d}\\beta \\right\\}\\\\\\\\\n",
    "        &= \\text{FT}\\left\\{h(x, y)\\right\\} \\cdot \\text{FT}\\left\\{g(x, y)\\right\\} \\\\\\\\\n",
    "        \\therefore G(k_{x}, k_{y}) &= H(k_{x}, k_{y})\\cdot F(k_{x}, k_{y})\n",
    "    \\end{align}<br>\n",
    "    <li> $H(k_{x}, k_{y})$, the Fourier transform of the point-spread function, is called the <b>Optical Transfer Function</b> (OTF) <br><br>\n",
    "    <li> In general, the OTF is complex valued and so it can be simpler to define the <b>Modulation Transfer Function</b> (MTF) as the absolute value:<br><br>\n",
    "        \\begin{align}\n",
    "            \\text{MTF} &= |\\text{OTF}| = |H(k_{x}, k_{y})|\n",
    "        \\end{align}\n",
    "</ul>"
   ]
  },
  {
   "cell_type": "markdown",
   "metadata": {
    "slideshow": {
     "slide_type": "subslide"
    }
   },
   "source": [
    "## Transfer Functions - what do they represent?\n",
    "<div style=\"float: left; width: 50%;\">\n",
    "<br>\n",
    "<ul>\n",
    "    <li> $F$ describes the frequencies present in the <i>object</i> and $G$ the frequencies in the <i>image</i><br><br>\n",
    "    <li> If the magnitude of $H$ (i.e. the MTF) is low, then these frequencies in object are attenuated in the final image (i.e. modulations in the object at these frequencies are not <i>transferred</i> into the image!)\n",
    "</ul>\n",
    "</div>\n",
    "<br><br>\n",
    "<div style=\"float: right; width: 40%; border:1px solid black;\">\n",
    "<br>\n",
    "\\begin{gather*}\n",
    "\\text{image frequencies} = \\text{OTF} \\cdot \\text{object frequencies} \\\\\\\\\n",
    "G(k_{x}, k_{y}) = H(k_{x}, k_{y})\\cdot F(k_{x}, k_{y}) \\\\\\\\\n",
    "\\text{MTF} = |H(k_{x}, k_{y})|\n",
    "\\end{gather*}\n",
    "<br>\n",
    "</div>"
   ]
  },
  {
   "cell_type": "code",
   "execution_count": 80,
   "metadata": {},
   "outputs": [
    {
     "data": {
      "application/vnd.jupyter.widget-view+json": {
       "model_id": "98f40c339d0f452eaebd858af85d6354",
       "version_major": 2,
       "version_minor": 0
      },
      "text/html": [
       "<p>Failed to display Jupyter Widget of type <code>interactive</code>.</p>\n",
       "<p>\n",
       "  If you're reading this message in the Jupyter Notebook or JupyterLab Notebook, it may mean\n",
       "  that the widgets JavaScript is still loading. If this message persists, it\n",
       "  likely means that the widgets JavaScript library is either not installed or\n",
       "  not enabled. See the <a href=\"https://ipywidgets.readthedocs.io/en/stable/user_install.html\">Jupyter\n",
       "  Widgets Documentation</a> for setup instructions.\n",
       "</p>\n",
       "<p>\n",
       "  If you're reading this message in another frontend (for example, a static\n",
       "  rendering on GitHub or <a href=\"https://nbviewer.jupyter.org/\">NBViewer</a>),\n",
       "  it may mean that your frontend doesn't currently support widgets.\n",
       "</p>\n"
      ],
      "text/plain": [
       "interactive(children=(FloatSlider(value=0.0, continuous_update=False, description=u'width', max=30.0, step=0.5), Output()), _dom_classes=('widget-interact',))"
      ]
     },
     "metadata": {},
     "output_type": "display_data"
    }
   ],
   "source": [
    "# Convert the red-channel of the 'face' to a floating point array (value 0 to 1):\n",
    "face_R = face[:, :, 0].astype('float32')/255\n",
    "\n",
    "# Make it smaller to speed thing up a little....\n",
    "face_R = resize(face_R, (face_R.shape[0] / 5, face_R.shape[1] / 5))\n",
    "\n",
    "PSF_width_slider = FloatSlider(min=0.0, max=30, step=0.5, value=0, continuous_update=False)\n",
    "    \n",
    "# decorate the plot function with an environment from the UIs:\n",
    "@interact(width=PSF_width_slider)\n",
    "def compute_MTF(width):\n",
    "    \n",
    "    # We can't actually use zero here so just make very small.\n",
    "    if width == 0.0:\n",
    "        width = 1e-10\n",
    "    \n",
    "    # convolve with a disk of varying radius\n",
    "    x = np.linspace(-20, 20, 41)\n",
    "    X, Y = np.meshgrid(x, x)\n",
    "    \n",
    "    PSF = 1.0 * np.logical_and(np.abs(X) <= width / 2, np.abs(Y) <= width / 2)\n",
    "    PSF_1D = 1.0 * (np.abs(x) <= width / 2)\n",
    "    kx = fft.fftshift(fft.fftfreq(len(x), 40))\n",
    "    MTF = np.abs(fft.ifftshift(fft.fft(fft.fftshift(PSF_1D))))\n",
    "    MTF = MTF/MTF[21]\n",
    "    \n",
    "    image = convolve2d(face_R, PSF, mode='same')\n",
    "    \n",
    "    f = pl.figure(figsize = (12, 5))\n",
    "    ax1 = f.add_subplot(231) \n",
    "    ax1.imshow(face_R, cmap = 'gray', interpolation = 'None')\n",
    "    ax1.set_title(r'Object $f(\\alpha, \\beta)$', fontsize = 20.0)\n",
    "    ax1.set_xticks([]), ax1.set_yticks([])\n",
    "    \n",
    "    ax2 = f.add_subplot(232) \n",
    "    ax2.plot(PSF_1D, 'k-')\n",
    "    ax2.set_title(r'PSF $h(\\alpha)$', fontsize = 20.0)\n",
    "    ax2.set_xticks([]), ax2.set_yticks([])\n",
    "    \n",
    "    ax3 = f.add_subplot(233)\n",
    "    ax3.imshow(image, cmap = 'gray', interpolation = 'None')\n",
    "    ax3.set_title(r'Image $g(x, y)$', fontsize = 20.0)\n",
    "    ax3.set_xticks([]), ax3.set_yticks([])\n",
    "    \n",
    "    \n",
    "    row_object = face_R[75, :]\n",
    "    row_object_fft = fft.ifftshift(fft.fft(fft.fftshift(row_object)))\n",
    "    \n",
    "    row_image = image[75, :]\n",
    "    row_image_fft = fft.ifftshift(fft.fft(fft.fftshift(row_image)))\n",
    "    \n",
    "    ax4 = f.add_subplot(234) \n",
    "    ax4.semilogy(np.abs(row_object_fft/row_object_fft.max()), 'k-')\n",
    "    ax4.set_title(r'$F(k_{x})$', fontsize = 20.0)\n",
    "    ax4.set_xticks([])\n",
    "    \n",
    "    ax5 = f.add_subplot(235) \n",
    "    ax5.semilogy(MTF, 'k-')\n",
    "    ax5.set_title(r'MTF $H(k_{x})$', fontsize = 20.0)\n",
    "    ax5.set_xticks([])\n",
    "    \n",
    "    ax6 = f.add_subplot(236) \n",
    "    ax6.semilogy(np.abs(row_image_fft/row_image_fft.max()), 'k-')\n",
    "    ax6.set_title(r'$G(k_{x})$', fontsize = 20.0)\n",
    "    ax6.set_xticks([])\n",
    "    \n",
    "    pl.tight_layout()\n",
    "    \n",
    "    pl.show()"
   ]
  }
 ],
 "metadata": {
  "celltoolbar": "Slideshow",
  "kernelspec": {
   "display_name": "Python 2",
   "language": "python",
   "name": "python2"
  },
  "language_info": {
   "codemirror_mode": {
    "name": "ipython",
    "version": 2
   },
   "file_extension": ".py",
   "mimetype": "text/x-python",
   "name": "python",
   "nbconvert_exporter": "python",
   "pygments_lexer": "ipython2",
   "version": "2.7.14"
  }
 },
 "nbformat": 4,
 "nbformat_minor": 2
}
