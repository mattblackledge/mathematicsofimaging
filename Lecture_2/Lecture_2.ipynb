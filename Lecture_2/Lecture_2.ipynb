{
 "cells": [
  {
   "cell_type": "markdown",
   "metadata": {
    "slideshow": {
     "slide_type": "slide"
    }
   },
   "source": [
    "## Describing Imaging Systems\n",
    "<div style=\"float: left; width: 45%;\">\n",
    "<br>\n",
    "<ul>\n",
    "<li> No imaging system is perfect!  <br><br>\n",
    "<li> Images only provide a reasonable approximation of the underlying object we are trying to capture. <br><br>\n",
    "<li> For example, medical images typically provide some information about a particular biological property of the tissue at a given position in space, $(x, y)$ <br><br>\n",
    "</ul>\n",
    "</div>\n",
    "<div style=\"float: right; width: 50%;\">\n",
    " <img src='images/medical_image_examples.jpg' width = '80%'>\n",
    "</div>"
   ]
  },
  {
   "cell_type": "markdown",
   "metadata": {
    "slideshow": {
     "slide_type": "subslide"
    }
   },
   "source": [
    "## Describing Imaging Systems\n",
    "<div style=\"float: left; width: 45%;\">\n",
    "<br>\n",
    "<ul>\n",
    "    <li> In the following slides we introduce a general formulation for characterising imaging systems.<br><br>\n",
    "    <li> We deonte the <b>object</b> as $f(\\alpha, \\beta)$ , and the <b>image</b> as $g(x, y)$<sup>1</sup><br><br>\n",
    "    <li> We also typically assume that $f(\\alpha, \\beta) \\in \\mathbb{R}^{+}$ and $g(x, y) \\in \\mathbb{R}^{+}$<br><br>\n",
    "    <li> In its most general sense, the imaging system can be thought of as an operator, $\\mathcal{H}$, operating on the opbject to produce the image.<br><br>\n",
    "</ul>\n",
    "<hr></hr>\n",
    "<sup>1. Here we assume we are working with 2D images, but these methods are applicable to 3 or more dimensions as well!</sup>\n",
    "</div>\n",
    "<div style=\"float: right; width: 50%;\">\n",
    "<img src='images/image_object.jpg' width = '100%'>\n",
    "</div>"
   ]
  },
  {
   "cell_type": "markdown",
   "metadata": {
    "slideshow": {
     "slide_type": "subslide"
    }
   },
   "source": [
    "## Linear Imaging Systems\n",
    "<ul>\n",
    "    <li>Consider now that the same imaging system is used to capture images, $g_{1}(x, y)$ and $g_{2}(x, y)$, of two objects, $f_{1}(\\alpha, \\beta)$ and $f_{2}(\\alpha, \\beta)$ respectively.<br><br>\n",
    "    <li> A <b>linear imaging system</b> is one that satisfies the following property:<br><br>\n",
    "\\begin{align}\n",
    "\\mathcal{H}\\left(g_{1} + g_{2}\\right) &= \\mathcal{H}\\left(g_{1}\\right) + \\mathcal{H}\\left(g_{2}\\right) \\\\ \n",
    "        &= f_{1} + f_{2}\n",
    "\\end{align}<br>\n",
    "     <li> For example, in PET imaging, if the concentration of radioactive tracer doubles, then so does the intensity on the final image.  Another example could be doubling of the exposure time when taking a picture (although there will be a limit!)<br><br>\n",
    "     <li> In practise nearly all imaging systems are considered to be linear.\n",
    "</ul>"
   ]
  },
  {
   "cell_type": "markdown",
   "metadata": {
    "slideshow": {
     "slide_type": "subslide"
    }
   },
   "source": [
    "## Point-Spread Function\n",
    "<div style=\"float: left; width: 50%;\">\n",
    "<br>\n",
    "<ul>\n",
    "    <li> Lets go back to our example of the pin-hole camera with a finite aperture.<br><br>\n",
    "    <li> What happens if we use a point-source at position $(\\alpha, \\beta)$ as the object: $f(\\alpha', \\beta') = \\delta(\\alpha' - \\alpha, \\beta' - \\beta)$?<br><br>\n",
    "    <li> We will end up with the <b>point-spread function</b> (PSF) describing the imaging-system for the location of the point source, $h(x, y; \\alpha, \\beta)$.<br><br>\n",
    "    <li> The final image will be the sum (integral) of the contribution from all point-sources that make up the object (assuming the imaging system is linear):\n",
    "    $$\n",
    "    g(x, y) = \\iint\\limits_{-\\infty}^{\\infty} h(x, y; \\alpha, \\beta)\\cdot f(\\alpha, \\beta)\\text{d}\\alpha\\text{d}\\beta\n",
    "    $$\n",
    "</ul>\n",
    "</div>\n",
    "<div style=\"float: left; width: 40%;\">\n",
    "    <img src='images/pinhole_projection.jpg' width = '100%'>\n",
    "</div>"
   ]
  },
  {
   "cell_type": "markdown",
   "metadata": {},
   "source": [
    "## Shift Invariance\n",
    "<div style=\"float: left; width: 50%;\">\n",
    "<br>\n",
    "<ul>\n",
    "    <li>If the PSF is <b>shift invariant</b> then $h$ will not change for different positions in the source frame-of-reference.<br><br>\n",
    "    <li> Instead, the final image will be a <b>convolution</b> of the shift-invariant PSF with the object:<br><br>\n",
    "        $$\n",
    "            g(x, y) = \\iint\\limits_{-\\infty}^{\\infty} h(x-\\alpha, y-\\beta)\\cdot f(\\alpha, \\beta)\\text{d}\\alpha\\text{d}\\beta\n",
    "        $$<br>\n",
    "    <li> In practice nearly all imaging systems are considered to be shift invariant (even if it is know they are not!).\n",
    "</ul>\n",
    "</div>"
   ]
  }
 ],
 "metadata": {
  "celltoolbar": "Slideshow",
  "kernelspec": {
   "display_name": "Python 2",
   "language": "python",
   "name": "python2"
  },
  "language_info": {
   "codemirror_mode": {
    "name": "ipython",
    "version": 2
   },
   "file_extension": ".py",
   "mimetype": "text/x-python",
   "name": "python",
   "nbconvert_exporter": "python",
   "pygments_lexer": "ipython2",
   "version": "2.7.14"
  }
 },
 "nbformat": 4,
 "nbformat_minor": 2
}
